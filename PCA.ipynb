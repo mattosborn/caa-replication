{
 "cells": [
  {
   "cell_type": "code",
   "execution_count": 1,
   "metadata": {},
   "outputs": [],
   "source": [
    "from sklearn import decomposition\n",
    "from caa.model import ModelWrapper\n",
    "from caa.utils import load_dataset\n",
    "import matplotlib.pyplot as plt\n",
    "import torch as t\n",
    "from tqdm import tqdm"
   ]
  },
  {
   "cell_type": "code",
   "execution_count": null,
   "metadata": {},
   "outputs": [],
   "source": [
    "model_name = 'meta-llama/Llama-2-7b-chat-hf'\n",
    "device = \"cuda:0\"\n",
    "model = ModelWrapper(model_name)\n",
    "model.setup_layer_activation_hooks()\n",
    "\n",
    "dataset = load_dataset(\"refusal_test_ab\")"
   ]
  },
  {
   "cell_type": "code",
   "execution_count": null,
   "metadata": {},
   "outputs": [],
   "source": [
    "def process_activations(activations): return t.stack(\n",
    "        [activation.to('cpu')[:, -1] for activation in activations], dim=1)\n",
    "\n",
    "all_activations_p = []\n",
    "all_activations_n = []\n",
    "\n",
    "# TODO: we probably want to batch this as some of the datasets are large\n",
    "for data in tqdm(dataset):\n",
    "    input_p = model.tokenize_question(\n",
    "        data['question'], data['answer_matching_behavior'][:2]).to(\"cuda:0\")\n",
    "    \n",
    "    input_n = model.tokenize_question(\n",
    "        data['question'], data['answer_not_matching_behavior'][:2]).to(\"cuda:0\")\n",
    "\n",
    "    model(input_p)\n",
    "    activations_p = model.get_last_layer_activations()\n",
    "    all_activations_p.append(process_activations(activations_p))\n",
    "\n",
    "    model(input_n)\n",
    "    activations_n = model.get_last_layer_activations()\n",
    "    all_activations_n.append(process_activations(activations_n))\n",
    "\n",
    "# stack all tensors and flatten batch and question dimensions\n",
    "activations_p_tensor = t.stack(all_activations_p, dim=0).flatten(0, 1)\n",
    "activations_n_tensor = t.stack(all_activations_n, dim=0).flatten(0, 1)"
   ]
  },
  {
   "cell_type": "code",
   "execution_count": null,
   "metadata": {},
   "outputs": [],
   "source": [
    "model.get_last_activations().items()"
   ]
  },
  {
   "cell_type": "code",
   "execution_count": 4,
   "metadata": {},
   "outputs": [],
   "source": [
    "layer_9_activ_pos = activations_p_tensor[:, 9]\n",
    "layer_10_activ_pos = activations_p_tensor[:, 10]\n",
    "\n",
    "layer_9_activ_neg = activations_n_tensor[:, 9]\n",
    "layer_10_activ_neg = activations_n_tensor[:, 10]\n"
   ]
  },
  {
   "cell_type": "code",
   "execution_count": null,
   "metadata": {},
   "outputs": [],
   "source": [
    "pca = decomposition.PCA(n_components=2)\n",
    "X_layer_9_pos = pca.fit_transform(layer_9_activ_pos.numpy())\n",
    "X_layer_9_neg = pca.fit_transform(layer_9_activ_neg.numpy())\n",
    "\n",
    "X_layer_10_pos = pca.fit_transform(layer_10_activ_pos.numpy())\n",
    "X_layer_10_neg = pca.fit_transform(layer_10_activ_neg.numpy())\n",
    "\n",
    "X_layer_9_pos.shape"
   ]
  },
  {
   "cell_type": "code",
   "execution_count": null,
   "metadata": {},
   "outputs": [],
   "source": [
    "plt.clf()\n",
    "plt.scatter(X_layer_9_pos[:, 0], X_layer_9_pos[:, 1])\n",
    "plt.scatter(X_layer_9_neg[:, 0], X_layer_9_neg[:, 1], cmap=\"red\")\n",
    "plt.scatter(X_layer_10_pos[:, 0], X_layer_10_pos[:, 1], cmap=\"green\")\n",
    "plt.scatter(X_layer_10_neg[:, 0], X_layer_10_neg[:, 1], cmap=\"yellow\")\n",
    "\n",
    "plt.plot()"
   ]
  }
 ],
 "metadata": {
  "kernelspec": {
   "display_name": "Python 3",
   "language": "python",
   "name": "python3"
  },
  "language_info": {
   "codemirror_mode": {
    "name": "ipython",
    "version": 3
   },
   "file_extension": ".py",
   "mimetype": "text/x-python",
   "name": "python",
   "nbconvert_exporter": "python",
   "pygments_lexer": "ipython3",
   "version": "3.10.12"
  }
 },
 "nbformat": 4,
 "nbformat_minor": 2
}
